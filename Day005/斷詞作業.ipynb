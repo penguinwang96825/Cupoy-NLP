{
 "cells": [
  {
   "cell_type": "markdown",
   "metadata": {},
   "source": [
    "## 作業目標: 了解斷詞演算法的背後計算"
   ]
  },
  {
   "cell_type": "markdown",
   "metadata": {},
   "source": [
    "### 根據課程講述的內容, 請計算出下列剩餘所有情況的\n",
    "若有一個人連續觀察到三天水草都是乾燥的(Dry), 則這三天的天氣機率為何？(可參考講義第13頁)\n",
    "(Hint: 共有8種可能機率)\n",
    "\n",
    "```python\n",
    "states = ('sunny', 'rainy')\n",
    "observations = ('dry', 'damp', 'soggy')\n",
    "start_probability = {'sunny': 0.4, 'rainy': 0.6}\n",
    "transition_probability = {'sunny':{'sunny':0.6, 'rainy':0.4},\n",
    "                          'rainy': {'sunny':0.3, 'rainy':0.7}}\n",
    "emission_probatility = {'sunny': {'dry':0.6, 'damp':0.3, 'soggy':0.1},\n",
    "                        'rainy': {'dry':0.1, 'damp':0.4, 'soggy':0.5}}\n",
    "```"
   ]
  },
  {
   "cell_type": "markdown",
   "metadata": {},
   "source": [
    "```\n",
    "觀察狀態 = 'dry', 'dry', 'dry'\n",
    "Sunny, Sunny, Sunny: 0.4*(0.6)*0.6*(0.6)*0.6*(0.6) = 0.031104\n",
    "Rainy, Sunny, Sunny: 0.6*(0.1)*0.3*(0.6)*0.6*(0.6) = 0.003888\n",
    "###<your answers>###\n",
    "\n",
    "最大機率為: Sunny, Sunny, Sunny\n",
    "```"
   ]
  },
  {
   "cell_type": "markdown",
   "metadata": {},
   "source": [
    "Toy [example](https://www.cis.upenn.edu/~cis262/notes/Example-Viterbi-DNA.pdf) from CIS"
   ]
  },
  {
   "cell_type": "markdown",
   "metadata": {},
   "source": [
    "### 根據上述條件, 寫出Viterbi應用程式"
   ]
  },
  {
   "cell_type": "code",
   "execution_count": 1,
   "metadata": {},
   "outputs": [],
   "source": [
    "observations = ('dry', 'dry', 'dry') #實際上觀察到的狀態為dry, dry, dry\n",
    "states = ('sunny', 'rainy')\n",
    "start_probability = {'sunny': 0.4, 'rainy': 0.6}\n",
    "transition_probability = {'sunny': {'sunny': 0.6, 'rainy': 0.4},\n",
    "                          'rainy': {'sunny': 0.3, 'rainy': 0.7}}\n",
    "emission_probatility = {'sunny': {'dry': 0.6, 'damp': 0.3, 'soggy': 0.1},\n",
    "                        'rainy': {'dry': 0.1, 'damp': 0.4, 'soggy': 0.5}}"
   ]
  },
  {
   "cell_type": "code",
   "execution_count": 4,
   "metadata": {},
   "outputs": [],
   "source": [
    "def viterbi(observations, states, start_p, transition_p, emission_p):\n",
    "    V = [{}]\n",
    "    path = {}\n",
    "\n",
    "    # Initialize base cases (t == 0)\n",
    "    for y in states:\n",
    "        V[0][y] = start_p[y] * emission_p[y][observations[0]]\n",
    "        path[y] = [y]\n",
    "        \n",
    "    # Run Viterbi for t > 0\n",
    "    for t in range(1, len(observations)):\n",
    "        V.append({})\n",
    "        newpath = {}\n",
    "        for current_state in states:\n",
    "            (prob, state) = max(\n",
    "                [(V[t-1][pre_state]*transition_p[pre_state][current_state]*emission_p[current_state][observations[t]], \n",
    "                  pre_state) \n",
    "                 for pre_state in states])\n",
    "            V[t][current_state] = prob\n",
    "            newpath[current_state] = path[state] + [current_state]\n",
    "\n",
    "        # Don't need to remember the old paths\n",
    "        path = newpath\n",
    "    \n",
    "    (prob, state) = max([(V[len(observations)-1][final_state], final_state) for final_state in states])\n",
    "    return (prob, path[state])"
   ]
  },
  {
   "cell_type": "code",
   "execution_count": null,
   "metadata": {},
   "outputs": [],
   "source": [
    "import math\n",
    "\n",
    "def viterbi_log(observations, states, start_p, transition_p, emission_p):\n",
    "    for key in start_p:\n",
    "        start_p[key] = math.log2(start_p.get(key))\n",
    "    for key in transition_p:\n",
    "        dictionary = transition_p.get(key)\n",
    "        for k in dictionary:\n",
    "            dictionary[k] = math.log2(dictionary.get(k))\n",
    "    for key in emission_p:\n",
    "        dictionary = emission_p.get(key)\n",
    "        for k in dictionary:\n",
    "            dictionary[k] = math.log2(dictionary.get(k))\n",
    "    V = [{}]\n",
    "    path = {}\n",
    "\n",
    "    # Initialize base cases (t == 0)\n",
    "    for y in states:\n",
    "        V[0][y] = start_p[y] + emission_p[y][observations[0]]\n",
    "        path[y] = [y]\n",
    "        \n",
    "    # Run Viterbi for t > 0\n",
    "    for t in range(1, len(observations)):\n",
    "        V.append({})\n",
    "        newpath = {}\n",
    "        for current_state in states:\n",
    "            (prob, state) = max(\n",
    "                [(V[t-1][pre_state]+transition_p[pre_state][current_state]+emission_p[current_state][observations[t]], \n",
    "                  pre_state) \n",
    "                 for pre_state in states])\n",
    "            V[t][current_state] = prob\n",
    "            newpath[current_state] = path[state] + [current_state]\n",
    "\n",
    "        # Don't need to remember the old paths\n",
    "        path = newpath\n",
    "    \n",
    "    (prob, state) = max([(V[len(observations)-1][final_state], final_state) for final_state in states])\n",
    "    return (prob, path[state])"
   ]
  },
  {
   "cell_type": "code",
   "execution_count": 5,
   "metadata": {},
   "outputs": [],
   "source": [
    "result = viterbi(observations,\n",
    "                 states,\n",
    "                 start_probability,\n",
    "                 transition_probability,\n",
    "                 emission_probatility)"
   ]
  },
  {
   "cell_type": "code",
   "execution_count": 7,
   "metadata": {},
   "outputs": [
    {
     "data": {
      "text/plain": [
       "(0.031103999999999993, ['sunny', 'sunny', 'sunny'])"
      ]
     },
     "execution_count": 7,
     "metadata": {},
     "output_type": "execute_result"
    }
   ],
   "source": [
    "result"
   ]
  },
  {
   "cell_type": "code",
   "execution_count": null,
   "metadata": {},
   "outputs": [],
   "source": []
  }
 ],
 "metadata": {
  "kernelspec": {
   "display_name": "nlp",
   "language": "python",
   "name": "nlp"
  },
  "language_info": {
   "codemirror_mode": {
    "name": "ipython",
    "version": 3
   },
   "file_extension": ".py",
   "mimetype": "text/x-python",
   "name": "python",
   "nbconvert_exporter": "python",
   "pygments_lexer": "ipython3",
   "version": "3.7.3"
  }
 },
 "nbformat": 4,
 "nbformat_minor": 2
}
